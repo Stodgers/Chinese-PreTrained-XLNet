{
 "cells": [
  {
   "cell_type": "code",
   "execution_count": null,
   "metadata": {
    "collapsed": true
   },
   "outputs": [],
   "source": [
    "XLNET_DIR=YOUR_GS_BUCKET_PATH_TO_XLNET\n",
    "MODEL_DIR=YOUR_OUTPUT_MODEL_PATH\n",
    "DATA_DIR=YOUR_DATA_DIR_TO_TFRECORDS\n",
    "RAW_DIR=YOUR_RAW_DATA_DIR\n",
    "TPU_NAME=v2-xlnet\n",
    "TPU_ZONE=us-central1-b\n",
    "\n",
    "python -u run_classifier.py \\\n",
    "\t--spiece_model_file=./spiece.model \\\n",
    "\t--model_config_path=${XLNET_DIR}/xlnet_config.json \\\n",
    "\t--init_checkpoint=${XLNET_DIR}/xlnet_model.ckpt \\\n",
    "\t--task_name=csc \\\n",
    "\t--do_train=True \\\n",
    "\t--do_eval=True \\\n",
    "\t--eval_all_ckpt=False \\\n",
    "\t--uncased=False \\\n",
    "\t--data_dir=${RAW_DIR} \\\n",
    "\t--output_dir=${DATA_DIR} \\\n",
    "\t--model_dir=${MODEL_DIR} \\\n",
    "\t--train_batch_size=48 \\\n",
    "\t--eval_batch_size=48 \\\n",
    "\t--num_hosts=1 \\\n",
    "\t--num_core_per_host=8 \\\n",
    "\t--num_train_epochs=3 \\\n",
    "\t--max_seq_length=256 \\\n",
    "\t--learning_rate=2e-5 \\\n",
    "\t--save_steps=5000 \\\n",
    "\t--use_tpu=True \\\n",
    "\t--tpu=${TPU_NAME} \\\n",
    "\t--tpu_zone=${TPU_ZONE}\n"
   ]
  }
 ],
 "metadata": {
  "language_info": {
   "codemirror_mode": {
    "name": "ipython",
    "version": 2
   },
   "file_extension": ".py",
   "mimetype": "text/x-python",
   "name": "python",
   "nbconvert_exporter": "python",
   "pygments_lexer": "ipython2",
   "version": "2.7.6"
  },
  "kernelspec": {
   "name": "python3",
   "language": "python",
   "display_name": "Python 3"
  },
  "pycharm": {
   "stem_cell": {
    "cell_type": "raw",
    "source": [],
    "metadata": {
     "collapsed": false
    }
   }
  }
 },
 "nbformat": 4,
 "nbformat_minor": 0
}